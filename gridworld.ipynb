{
 "cells": [
  {
   "cell_type": "code",
   "execution_count": 19,
   "metadata": {
    "code_folding": []
   },
   "outputs": [
    {
     "name": "stdout",
     "output_type": "stream",
     "text": [
      "| | | | |  total_reward: -1\n",
      "| | | |T|  steps: 0\n",
      "|*| | | |  last action: down\n"
     ]
    }
   ],
   "source": [
    "from base import GridWorld, Agent, RandomPolicy\n",
    "from IPython.display import clear_output\n",
    "import time\n",
    "\n",
    "gw = GridWorld(size=np.array([3,4]), terminal=[1,3])\n",
    "\n",
    "def play(env, agent, steps = 20):\n",
    "    i = 0\n",
    "    while env.isterminal() is not True and i < 40:\n",
    "        gw.step(agent.step())\n",
    "        clear_output(wait=True)\n",
    "        gw.print()\n",
    "        time.sleep(1)\n",
    "        i+=1    \n",
    "    \n",
    "rp = RandomPolicy(gw)\n",
    "# gw.print()\n",
    "\n",
    "gw.step(\"down\")\n",
    "gw.print()"
   ]
  },
  {
   "cell_type": "code",
   "execution_count": 23,
   "metadata": {},
   "outputs": [
    {
     "name": "stdout",
     "output_type": "stream",
     "text": [
      "| | | | |  total_reward: -22\n",
      "| | | |*|  steps: 0\n",
      "| | | | |  last action: down\n"
     ]
    }
   ],
   "source": [
    "gw.restart()\n",
    "play(gw,rp)"
   ]
  },
  {
   "cell_type": "code",
   "execution_count": 2,
   "metadata": {},
   "outputs": [
    {
     "name": "stdout",
     "output_type": "stream",
     "text": [
      "\n",
      "| | | | | | | |  total_reward: -1\n",
      "| | | |T| | | |  steps: 0\n",
      "| | | | | | | |  last action: down\n",
      "|*| | | | | | |\n",
      "| | | | | | | |\n",
      "| | | | | | | |\n",
      "| | | | | | | |\n"
     ]
    }
   ],
   "source": [
    "print(gw)\n"
   ]
  },
  {
   "cell_type": "code",
   "execution_count": 22,
   "metadata": {
    "code_folding": []
   },
   "outputs": [
    {
     "name": "stdout",
     "output_type": "stream",
     "text": [
      "[3 4]\n",
      "3    4\n",
      "here\n",
      "0.0\n",
      "[[0 0]\n",
      " [0 1]\n",
      " [0 2]\n",
      " [0 3]\n",
      " [1 0]\n",
      " [1 1]\n",
      " [1 2]\n",
      " [1 3]\n",
      " [2 0]\n",
      " [2 1]\n",
      " [2 2]\n",
      " [2 3]]\n",
      "---\n",
      "______s:  [0 0]\n",
      "{'up': 0.25, 'down': 0.25, 'left': 0.25, 'right': 0.25}\n",
      "up 0.25\n",
      "R:  [0 0] -1 1\n",
      "down 0.25\n",
      "R:  [1 0] -1 1\n",
      "left 0.25\n",
      "R:  [0 0] -1 1\n",
      "right 0.25\n",
      "R:  [0 1] -1 1\n",
      "______s:  [0 1]\n",
      "{'up': 0.25, 'down': 0.25, 'left': 0.25, 'right': 0.25}\n",
      "up 0.25\n",
      "R:  [0 1] -1 1\n",
      "down 0.25\n",
      "R:  [1 1] -1 1\n",
      "left 0.25\n",
      "R:  [0 0] -1 1\n",
      "right 0.25\n",
      "R:  [0 2] -1 1\n",
      "______s:  [0 2]\n",
      "{'up': 0.25, 'down': 0.25, 'left': 0.25, 'right': 0.25}\n",
      "up 0.25\n",
      "R:  [0 2] -1 1\n",
      "down 0.25\n",
      "R:  [1 2] -1 1\n",
      "left 0.25\n",
      "R:  [0 1] -1 1\n",
      "right 0.25\n",
      "R:  [0 3] -1 1\n",
      "______s:  [0 3]\n",
      "{'up': 0.25, 'down': 0.25, 'left': 0.25, 'right': 0.25}\n",
      "up 0.25\n",
      "R:  [0 3] -1 1\n",
      "down 0.25\n",
      "R:  [1 3] 0 1\n",
      "left 0.25\n",
      "R:  [0 2] -1 1\n",
      "right 0.25\n",
      "R:  [0 3] -1 1\n",
      "______s:  [1 0]\n",
      "{'up': 0.25, 'down': 0.25, 'left': 0.25, 'right': 0.25}\n",
      "up 0.25\n",
      "R:  [0 0] -1 1\n",
      "down 0.25\n",
      "R:  [2 0] -1 1\n",
      "left 0.25\n",
      "R:  [1 0] -1 1\n",
      "right 0.25\n",
      "R:  [1 1] -1 1\n",
      "______s:  [1 1]\n",
      "{'up': 0.25, 'down': 0.25, 'left': 0.25, 'right': 0.25}\n",
      "up 0.25\n",
      "R:  [0 1] -1 1\n",
      "down 0.25\n",
      "R:  [2 1] -1 1\n",
      "left 0.25\n",
      "R:  [1 0] -1 1\n",
      "right 0.25\n",
      "R:  [1 2] -1 1\n",
      "______s:  [1 2]\n",
      "{'up': 0.25, 'down': 0.25, 'left': 0.25, 'right': 0.25}\n",
      "up 0.25\n",
      "R:  [0 2] -1 1\n",
      "down 0.25\n",
      "R:  [2 2] -1 1\n",
      "left 0.25\n",
      "R:  [1 1] -1 1\n",
      "right 0.25\n",
      "R:  [1 3] 0 1\n",
      "______s:  [1 3]\n",
      "{'up': 0.25, 'down': 0.25, 'left': 0.25, 'right': 0.25}\n",
      "up 0.25\n",
      "R:  [0 3] -1 1\n",
      "down 0.25\n",
      "R:  [2 3] -1 1\n",
      "left 0.25\n",
      "R:  [1 2] -1 1\n",
      "right 0.25\n",
      "R:  [1 3] 0 1\n",
      "______s:  [2 0]\n",
      "{'up': 0.25, 'down': 0.25, 'left': 0.25, 'right': 0.25}\n",
      "up 0.25\n",
      "R:  [1 0] -1 1\n",
      "down 0.25\n",
      "R:  [2 0] -1 1\n",
      "left 0.25\n",
      "R:  [2 0] -1 1\n",
      "right 0.25\n",
      "R:  [2 1] -1 1\n",
      "______s:  [2 1]\n",
      "{'up': 0.25, 'down': 0.25, 'left': 0.25, 'right': 0.25}\n",
      "up 0.25\n",
      "R:  [1 1] -1 1\n",
      "down 0.25\n",
      "R:  [2 1] -1 1\n",
      "left 0.25\n",
      "R:  [2 0] -1 1\n",
      "right 0.25\n",
      "R:  [2 2] -1 1\n",
      "______s:  [2 2]\n",
      "{'up': 0.25, 'down': 0.25, 'left': 0.25, 'right': 0.25}\n",
      "up 0.25\n",
      "R:  [1 2] -1 1\n",
      "down 0.25\n",
      "R:  [2 2] -1 1\n",
      "left 0.25\n",
      "R:  [2 1] -1 1\n",
      "right 0.25\n",
      "R:  [2 3] -1 1\n",
      "______s:  [2 3]\n",
      "{'up': 0.25, 'down': 0.25, 'left': 0.25, 'right': 0.25}\n",
      "up 0.25\n",
      "R:  [1 3] 0 1\n",
      "down 0.25\n",
      "R:  [2 3] -1 1\n",
      "left 0.25\n",
      "R:  [2 2] -1 1\n",
      "right 0.25\n",
      "R:  [2 3] -1 1\n",
      "final_action_reward:  -1.0\n"
     ]
    },
    {
     "data": {
      "text/plain": [
       "array([[0., 0., 0., 0.],\n",
       "       [0., 0., 0., 0.],\n",
       "       [0., 0., 0., 0.]])"
      ]
     },
     "execution_count": 22,
     "metadata": {},
     "output_type": "execute_result"
    }
   ],
   "source": [
    "def evaluate(env, agent, gamma, theta=0.01):\n",
    "    # and please TODO: experiment, will it converge in case of random or different values??     \n",
    "    # V = V_ = numpy.full((ROWS, COLS), value) # for different value\n",
    "    # for random matrix... \n",
    "    # V = V_ = np.random.rand(ROWS, COLS)\n",
    "    \n",
    "    ROWS, COLS = gw.rows(), gw.cols()\n",
    "    print(ROWS, '  ', COLS)\n",
    "    V = V_ = np.zeros((ROWS,COLS))\n",
    "    V[env.terminal[0], env.terminal[1]] = 0\n",
    "    delta = theta*1.1 # first loop value\n",
    "    print('here')\n",
    "    print(V_[0,0])\n",
    "    \n",
    "    r,c = np.indices((ROWS,COLS))\n",
    "    S = np.c_[r.ravel(), c.ravel()]\n",
    "    print(S)\n",
    "    \n",
    "    print('---')\n",
    "        \n",
    "    run = True\n",
    "    if run == True:\n",
    "        q = 0\n",
    "        while delta > theta and q < 20:\n",
    "            q +=1\n",
    "            for s in S:                  \n",
    "                print('______s: ',s)\n",
    "                \n",
    "                actions = agent.pi(s)\n",
    "                print(actions)\n",
    "                total_reward = 0\n",
    "\n",
    "                for a in actions:\n",
    "                    print(a, actions[a])\n",
    "                    srpairs = env.dynamics(a,s)\n",
    "#                     print('pairs ', srpairs)\n",
    "                    action_reward = 0\n",
    "                    for srp in srpairs:\n",
    "    #                       print('srp ', srp)\n",
    "                        s_ = srp[0]\n",
    "                        r = srp[1]\n",
    "                        p = srp[2]\n",
    "                        print('R: ', s_, r, p)\n",
    "                        action_reward += r + gamma*V[tuple(s_)]\n",
    "\n",
    "            print('final_action_reward: ', action_reward)\n",
    " \n",
    "\n",
    "            delta = np.amax(abs(V_ - V))\n",
    "            # sweep\n",
    "            V = V_\n",
    "    \n",
    "    return V\n",
    "\n",
    "print(gw.size)\n",
    "evaluate(gw, rp, 0.9)"
   ]
  },
  {
   "cell_type": "code",
   "execution_count": 9,
   "metadata": {},
   "outputs": [
    {
     "name": "stdout",
     "output_type": "stream",
     "text": [
      "[[ 0  5]\n",
      " [ 0  3]\n",
      " [ 1  5]\n",
      " [ 0  4]\n",
      " [ 2  5]\n",
      " [ 0  0]\n",
      " [ 3  6]\n",
      " [ 0  1]\n",
      " [ 4  6]\n",
      " [ 0  2]\n",
      " [ 0  6]\n",
      " [ 1  3]\n",
      " [ 1  6]\n",
      " [ 1  4]\n",
      " [ 2  6]\n",
      " [ 1  0]\n",
      " [ 3  7]\n",
      " [ 1  1]\n",
      " [ 4  7]\n",
      " [ 1  2]\n",
      " [ 0  7]\n",
      " [ 2  3]\n",
      " [ 1  7]\n",
      " [ 2  4]\n",
      " [ 2  7]\n",
      " [ 2  0]\n",
      " [ 3  8]\n",
      " [ 2  1]\n",
      " [ 4  8]\n",
      " [ 2  2]\n",
      " [ 0  8]\n",
      " [ 3  3]\n",
      " [ 1  8]\n",
      " [ 3  4]\n",
      " [ 2  8]\n",
      " [ 3  0]\n",
      " [ 3  9]\n",
      " [ 3  1]\n",
      " [ 4  9]\n",
      " [ 3  2]\n",
      " [ 0  9]\n",
      " [ 4  3]\n",
      " [ 1  9]\n",
      " [ 4  4]\n",
      " [ 2  9]\n",
      " [ 4  0]\n",
      " [ 3 10]\n",
      " [ 4  1]\n",
      " [ 4 10]\n",
      " [ 4  2]\n",
      " [ 0 10]\n",
      " [ 5  3]\n",
      " [ 1 10]\n",
      " [ 5  4]\n",
      " [ 2 10]]\n"
     ]
    }
   ],
   "source": [
    "ROWS = 5\n",
    "COLS = 11\n",
    "X = np.indices((ROWS,COLS)).reshape(ROWS*COLS,2, order='F')\n",
    "print(X)"
   ]
  },
  {
   "cell_type": "markdown",
   "metadata": {},
   "source": [
    "# Policy evaluation\n",
    "* Create random policy\n",
    "* evaluate policy. compute the state-value  V_pi for an arbitrary policy pi. "
   ]
  },
  {
   "cell_type": "code",
   "execution_count": null,
   "metadata": {},
   "outputs": [],
   "source": [
    "def improve(env, agent):\n",
    "    # implement policy improve\n",
    "    return V\n",
    "\n",
    "def gpi(env, agent):\n",
    "    return V\n",
    "        \n",
    "def mccontrol(env, agent):    \n",
    "    return V"
   ]
  },
  {
   "cell_type": "code",
   "execution_count": 31,
   "metadata": {
    "code_folding": []
   },
   "outputs": [
    {
     "name": "stdout",
     "output_type": "stream",
     "text": [
      "False\n",
      "is terminal\n",
      "i= 129\n",
      "[[(2, 0), 'down', -1], [(3, 0), 'left', -1], [(3, 0), 'left', -1], [(3, 0), 'up', -1], [(2, 0), 'up', -1], [(1, 0), 'up', -1], [(0, 0), 'up', -1], [(0, 0), 'left', -1], [(0, 0), 'up', -1], [(0, 0), 'down', -1], [(1, 0), 'up', -1], [(0, 0), 'down', -1], [(1, 0), 'up', -1], [(0, 0), 'up', -1], [(0, 0), 'right', -1], [(0, 1), 'left', -1], [(0, 0), 'up', -1], [(0, 0), 'down', -1], [(1, 0), 'right', -1], [(1, 1), 'down', -1], [(2, 1), 'down', -1], [(3, 1), 'down', -1], [(4, 1), 'right', -1], [(4, 2), 'right', -1], [(4, 3), 'left', -1], [(4, 2), 'down', -1], [(4, 2), 'down', -1], [(4, 2), 'down', -1], [(4, 2), 'up', -1], [(3, 2), 'right', -1], [(3, 3), 'right', -1], [(3, 4), 'right', -1], [(3, 4), 'right', -1], [(3, 4), 'down', -1], [(4, 4), 'down', -1], [(4, 4), 'up', -1], [(3, 4), 'down', -1], [(4, 4), 'left', -1], [(4, 3), 'down', -1], [(4, 3), 'left', -1], [(4, 2), 'left', -1], [(4, 1), 'up', -1], [(3, 1), 'left', -1], [(3, 0), 'right', -1], [(3, 1), 'left', -1], [(3, 0), 'left', -1], [(3, 0), 'right', -1], [(3, 1), 'up', -1], [(2, 1), 'left', -1], [(2, 0), 'left', -1], [(2, 0), 'left', -1], [(2, 0), 'right', -1], [(2, 1), 'left', -1], [(2, 0), 'right', -1], [(2, 1), 'up', -1], [(1, 1), 'right', -1], [(1, 2), 'down', -1], [(2, 2), 'left', -1], [(2, 1), 'down', -1], [(3, 1), 'down', -1], [(4, 1), 'up', -1], [(3, 1), 'down', -1], [(4, 1), 'left', -1], [(4, 0), 'down', -1], [(4, 0), 'up', -1], [(3, 0), 'down', -1], [(4, 0), 'up', -1], [(3, 0), 'down', -1], [(4, 0), 'up', -1], [(3, 0), 'left', -1], [(3, 0), 'down', -1], [(4, 0), 'down', -1], [(4, 0), 'up', -1], [(3, 0), 'down', -1], [(4, 0), 'down', -1], [(4, 0), 'up', -1], [(3, 0), 'up', -1], [(2, 0), 'left', -1], [(2, 0), 'left', -1], [(2, 0), 'up', -1], [(1, 0), 'right', -1], [(1, 1), 'up', -1], [(0, 1), 'up', -1], [(0, 1), 'up', -1], [(0, 1), 'left', -1], [(0, 0), 'right', -1], [(0, 1), 'up', -1], [(0, 1), 'left', -1], [(0, 0), 'down', -1], [(1, 0), 'up', -1], [(0, 0), 'down', -1], [(1, 0), 'right', -1], [(1, 1), 'down', -1], [(2, 1), 'left', -1], [(2, 0), 'down', -1], [(3, 0), 'left', -1], [(3, 0), 'down', -1], [(4, 0), 'up', -1], [(3, 0), 'up', -1], [(2, 0), 'left', -1], [(2, 0), 'right', -1], [(2, 1), 'left', -1], [(2, 0), 'up', -1], [(1, 0), 'right', -1], [(1, 1), 'up', -1], [(0, 1), 'left', -1], [(0, 0), 'up', -1], [(0, 0), 'up', -1], [(0, 0), 'right', -1], [(0, 1), 'up', -1], [(0, 1), 'right', -1], [(0, 2), 'right', -1], [(0, 3), 'right', -1], [(0, 4), 'up', -1], [(0, 4), 'left', -1], [(0, 3), 'left', -1], [(0, 2), 'down', -1], [(1, 2), 'left', -1], [(1, 1), 'up', -1], [(0, 1), 'down', -1], [(1, 1), 'left', -1], [(1, 0), 'down', -1], [(2, 0), 'left', -1], [(2, 0), 'up', -1], [(1, 0), 'right', -1], [(1, 1), 'up', -1], [(0, 1), 'right', -1], [(0, 2), 'down', -1], [(1, 2), 'right', 0]]\n"
     ]
    },
    {
     "data": {
      "text/plain": [
       "1"
      ]
     },
     "execution_count": 31,
     "metadata": {},
     "output_type": "execute_result"
    }
   ],
   "source": [
    "rp = RandomPolicy(ACTIONS)\n",
    "\n",
    "def evaluate(env, policy):\n",
    "    policy.action(env._state)\n",
    "    # env has env.state, env.actions\n",
    "    # or env.actions(state)     \n",
    "    V = np.zeros([ROWS, COLS])\n",
    "    \n",
    "    # playing episode    \n",
    "    i=0\n",
    "    print(env.isterminal(env._state))\n",
    "    track=[]\n",
    "    while env.isterminal(env._state) is not True and i < 1000:\n",
    "        a = policy.action()\n",
    "#         print('A ', a)\n",
    "#         r = env.action(a)\n",
    "        track.append([env._state, a, env.action(a)])\n",
    "        i+=1\n",
    "    \n",
    "    print('i=', i)        \n",
    "    print(track)\n",
    "\n",
    "    return 1\n",
    "\n",
    "gw.restart()\n",
    "# gw.isterminal(gw._state)\n",
    "evaluate(gw, rp)"
   ]
  },
  {
   "cell_type": "code",
   "execution_count": 88,
   "metadata": {},
   "outputs": [
    {
     "name": "stdout",
     "output_type": "stream",
     "text": [
      "(2, 0)\n"
     ]
    }
   ],
   "source": [
    "# gw.action('up')\n",
    "gw.restart()\n",
    "print(gw._state)\n",
    "# print(gw.isterminal(gw._state))"
   ]
  }
 ],
 "metadata": {
  "kernelspec": {
   "display_name": "kernel377",
   "language": "python",
   "name": "kernel377"
  },
  "language_info": {
   "codemirror_mode": {
    "name": "ipython",
    "version": 3
   },
   "file_extension": ".py",
   "mimetype": "text/x-python",
   "name": "python",
   "nbconvert_exporter": "python",
   "pygments_lexer": "ipython3",
   "version": "3.7.7"
  }
 },
 "nbformat": 4,
 "nbformat_minor": 4
}
